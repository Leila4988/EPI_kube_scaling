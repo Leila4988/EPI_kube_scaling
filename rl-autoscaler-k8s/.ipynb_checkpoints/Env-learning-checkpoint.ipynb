{
 "cells": [
  {
   "cell_type": "code",
   "execution_count": 25,
   "id": "5bf27d7f",
   "metadata": {},
   "outputs": [],
   "source": [
    "from kubernetes import client, config"
   ]
  },
  {
   "cell_type": "code",
   "execution_count": 26,
   "id": "95bc2ddb",
   "metadata": {},
   "outputs": [],
   "source": [
    "config.load_kube_config()"
   ]
  },
  {
   "cell_type": "code",
   "execution_count": 27,
   "id": "ea0074a1",
   "metadata": {},
   "outputs": [],
   "source": [
    "v1 = client.AutoscalingV2beta2Api()"
   ]
  },
  {
   "cell_type": "code",
   "execution_count": 28,
   "id": "82a25817",
   "metadata": {},
   "outputs": [],
   "source": [
    "events_list = v1.list_namespaced_horizontal_pod_autoscaler('default')"
   ]
  },
  {
   "cell_type": "code",
   "execution_count": 29,
   "id": "b3af55c3",
   "metadata": {},
   "outputs": [
    {
     "data": {
      "text/plain": [
       "{'api_version': 'autoscaling/v2beta2',\n",
       " 'items': [{'api_version': None,\n",
       "            'kind': None,\n",
       "            'metadata': {'annotations': {'kubectl.kubernetes.io/last-applied-configuration': '{\"apiVersion\":\"autoscaling/v2\",\"kind\":\"HorizontalPodAutoscaler\",\"metadata\":{\"annotations\":{},\"labels\":{\"app\":\"socat\"},\"name\":\"socat\",\"namespace\":\"default\"},\"spec\":{\"behavior\":{\"scaleDown\":{\"policies\":[{\"periodSeconds\":60,\"type\":\"Pods\",\"value\":5}],\"selectPolicy\":\"Max\",\"stabilizationWindowSeconds\":10}},\"maxReplicas\":10,\"metrics\":[{\"pods\":{\"metric\":{\"name\":\"cpu_utilization\"},\"target\":{\"averageValue\":\"100m\",\"type\":\"AverageValue\"}},\"type\":\"Pods\"}],\"minReplicas\":1,\"scaleTargetRef\":{\"apiVersion\":\"apps/v1\",\"kind\":\"Deployment\",\"name\":\"socat\"}}}\\n'},\n",
       "                         'cluster_name': None,\n",
       "                         'creation_timestamp': datetime.datetime(2022, 5, 4, 8, 14, 30, tzinfo=tzlocal()),\n",
       "                         'deletion_grace_period_seconds': None,\n",
       "                         'deletion_timestamp': None,\n",
       "                         'finalizers': None,\n",
       "                         'generate_name': None,\n",
       "                         'generation': None,\n",
       "                         'labels': {'app': 'socat'},\n",
       "                         'managed_fields': [{'api_version': 'autoscaling/v2',\n",
       "                                             'fields_type': 'FieldsV1',\n",
       "                                             'fields_v1': {'f:metadata': {'f:annotations': {'.': {},\n",
       "                                                                                            'f:kubectl.kubernetes.io/last-applied-configuration': {}},\n",
       "                                                                          'f:labels': {'.': {},\n",
       "                                                                                       'f:app': {}}},\n",
       "                                                           'f:spec': {'f:behavior': {'.': {},\n",
       "                                                                                     'f:scaleDown': {'.': {},\n",
       "                                                                                                     'f:policies': {},\n",
       "                                                                                                     'f:selectPolicy': {},\n",
       "                                                                                                     'f:stabilizationWindowSeconds': {}},\n",
       "                                                                                     'f:scaleUp': {'.': {},\n",
       "                                                                                                   'f:policies': {},\n",
       "                                                                                                   'f:selectPolicy': {},\n",
       "                                                                                                   'f:stabilizationWindowSeconds': {}}},\n",
       "                                                                      'f:maxReplicas': {},\n",
       "                                                                      'f:metrics': {},\n",
       "                                                                      'f:minReplicas': {},\n",
       "                                                                      'f:scaleTargetRef': {'f:apiVersion': {},\n",
       "                                                                                           'f:kind': {},\n",
       "                                                                                           'f:name': {}}}},\n",
       "                                             'manager': 'kubectl-client-side-apply',\n",
       "                                             'operation': 'Update',\n",
       "                                             'time': datetime.datetime(2022, 5, 4, 8, 14, 30, tzinfo=tzlocal())},\n",
       "                                            {'api_version': 'autoscaling/v2',\n",
       "                                             'fields_type': 'FieldsV1',\n",
       "                                             'fields_v1': {'f:status': {'f:conditions': {'.': {},\n",
       "                                                                                         'k:{\"type\":\"AbleToScale\"}': {'.': {},\n",
       "                                                                                                                      'f:lastTransitionTime': {},\n",
       "                                                                                                                      'f:message': {},\n",
       "                                                                                                                      'f:reason': {},\n",
       "                                                                                                                      'f:status': {},\n",
       "                                                                                                                      'f:type': {}},\n",
       "                                                                                         'k:{\"type\":\"ScalingActive\"}': {'.': {},\n",
       "                                                                                                                        'f:lastTransitionTime': {},\n",
       "                                                                                                                        'f:message': {},\n",
       "                                                                                                                        'f:reason': {},\n",
       "                                                                                                                        'f:status': {},\n",
       "                                                                                                                        'f:type': {}},\n",
       "                                                                                         'k:{\"type\":\"ScalingLimited\"}': {'.': {},\n",
       "                                                                                                                         'f:lastTransitionTime': {},\n",
       "                                                                                                                         'f:message': {},\n",
       "                                                                                                                         'f:reason': {},\n",
       "                                                                                                                         'f:status': {},\n",
       "                                                                                                                         'f:type': {}}},\n",
       "                                                                        'f:currentMetrics': {},\n",
       "                                                                        'f:currentReplicas': {},\n",
       "                                                                        'f:desiredReplicas': {},\n",
       "                                                                        'f:lastScaleTime': {}}},\n",
       "                                             'manager': 'kube-controller-manager',\n",
       "                                             'operation': 'Update',\n",
       "                                             'time': datetime.datetime(2022, 5, 4, 8, 16, 46, tzinfo=tzlocal())}],\n",
       "                         'name': 'socat',\n",
       "                         'namespace': 'default',\n",
       "                         'owner_references': None,\n",
       "                         'resource_version': '909062',\n",
       "                         'self_link': None,\n",
       "                         'uid': '1bef8a21-71b0-46cb-9005-385bc056f551'},\n",
       "            'spec': {'max_replicas': 10,\n",
       "                     'metrics': [{'external': None,\n",
       "                                  'object': None,\n",
       "                                  'pods': {'metric': {'name': 'cpu_utilization',\n",
       "                                                      'selector': None},\n",
       "                                           'target': {'average_utilization': None,\n",
       "                                                      'average_value': '100m',\n",
       "                                                      'type': 'AverageValue',\n",
       "                                                      'value': None}},\n",
       "                                  'resource': None,\n",
       "                                  'type': 'Pods'}],\n",
       "                     'min_replicas': 1,\n",
       "                     'scale_target_ref': {'api_version': 'apps/v1',\n",
       "                                          'kind': 'Deployment',\n",
       "                                          'name': 'socat'}},\n",
       "            'status': {'conditions': [{'last_transition_time': datetime.datetime(2022, 5, 4, 8, 14, 46, tzinfo=tzlocal()),\n",
       "                                       'message': 'the HPA controller was able '\n",
       "                                                  \"to get the target's current \"\n",
       "                                                  'scale',\n",
       "                                       'reason': 'SucceededGetScale',\n",
       "                                       'status': 'True',\n",
       "                                       'type': 'AbleToScale'},\n",
       "                                      {'last_transition_time': datetime.datetime(2022, 5, 11, 15, 24, 41, tzinfo=tzlocal()),\n",
       "                                       'message': 'the HPA was unable to '\n",
       "                                                  'compute the replica count: '\n",
       "                                                  'unable to get metric '\n",
       "                                                  'cpu_utilization: no metrics '\n",
       "                                                  'returned from custom '\n",
       "                                                  'metrics API',\n",
       "                                       'reason': 'FailedGetPodsMetric',\n",
       "                                       'status': 'False',\n",
       "                                       'type': 'ScalingActive'},\n",
       "                                      {'last_transition_time': datetime.datetime(2022, 5, 10, 10, 48, 45, tzinfo=tzlocal()),\n",
       "                                       'message': 'the desired replica count '\n",
       "                                                  'is less than the minimum '\n",
       "                                                  'replica count',\n",
       "                                       'reason': 'TooFewReplicas',\n",
       "                                       'status': 'True',\n",
       "                                       'type': 'ScalingLimited'}],\n",
       "                       'current_metrics': [{'external': None,\n",
       "                                            'object': None,\n",
       "                                            'pods': {'current': {'average_utilization': None,\n",
       "                                                                 'average_value': '0',\n",
       "                                                                 'value': None},\n",
       "                                                     'metric': {'name': 'cpu_utilization',\n",
       "                                                                'selector': None}},\n",
       "                                            'resource': None,\n",
       "                                            'type': 'Pods'}],\n",
       "                       'current_replicas': 1,\n",
       "                       'desired_replicas': 1,\n",
       "                       'last_scale_time': datetime.datetime(2022, 5, 10, 10, 48, 45, tzinfo=tzlocal()),\n",
       "                       'observed_generation': None}}],\n",
       " 'kind': 'HorizontalPodAutoscalerList',\n",
       " 'metadata': {'_continue': None,\n",
       "              'remaining_item_count': None,\n",
       "              'resource_version': '909068',\n",
       "              'self_link': None}}"
      ]
     },
     "execution_count": 29,
     "metadata": {},
     "output_type": "execute_result"
    }
   ],
   "source": [
    "events_list"
   ]
  },
  {
   "cell_type": "code",
   "execution_count": 3,
   "id": "c21576a4",
   "metadata": {},
   "outputs": [],
   "source": [
    "import requests"
   ]
  },
  {
   "cell_type": "code",
   "execution_count": 4,
   "id": "48d7431b",
   "metadata": {},
   "outputs": [],
   "source": [
    "def _query_prometheus(query_name):\n",
    "        prometheus_endpoint = '{}/api/v1/query'.format('http://145.100.135.52:30013')\n",
    "        response = requests.get(\n",
    "            prometheus_endpoint, params={\n",
    "                'query': query_name\n",
    "            }\n",
    "        )\n",
    "\n",
    "        results = response.json()['data']['result']\n",
    "        if len(results) > 0:\n",
    "            return float(results[0]['value'][1])\n",
    "        else:\n",
    "            return float('NaN')"
   ]
  },
  {
   "cell_type": "code",
   "execution_count": 5,
   "id": "a34cb72a",
   "metadata": {},
   "outputs": [],
   "source": [
    "query_name = '(avg(http_requests_total) by (app))'"
   ]
  },
  {
   "cell_type": "code",
   "execution_count": 6,
   "id": "2ff26847",
   "metadata": {},
   "outputs": [
    {
     "ename": "TypeError",
     "evalue": "_query_prometheus() missing 1 required positional argument: 'query_name'",
     "output_type": "error",
     "traceback": [
      "\u001b[0;31m---------------------------------------------------------------------------\u001b[0m",
      "\u001b[0;31mTypeError\u001b[0m                                 Traceback (most recent call last)",
      "Input \u001b[0;32mIn [6]\u001b[0m, in \u001b[0;36m<cell line: 1>\u001b[0;34m()\u001b[0m\n\u001b[0;32m----> 1\u001b[0m \u001b[43m_query_prometheus\u001b[49m\u001b[43m(\u001b[49m\u001b[43mquery_name\u001b[49m\u001b[43m)\u001b[49m\n",
      "\u001b[0;31mTypeError\u001b[0m: _query_prometheus() missing 1 required positional argument: 'query_name'"
     ]
    }
   ],
   "source": [
    "_query_prometheus(query_name=query_name)"
   ]
  },
  {
   "cell_type": "code",
   "execution_count": null,
   "id": "2b525ba2",
   "metadata": {},
   "outputs": [],
   "source": []
  }
 ],
 "metadata": {
  "kernelspec": {
   "display_name": "Python 3 (ipykernel)",
   "language": "python",
   "name": "python3"
  },
  "language_info": {
   "codemirror_mode": {
    "name": "ipython",
    "version": 3
   },
   "file_extension": ".py",
   "mimetype": "text/x-python",
   "name": "python",
   "nbconvert_exporter": "python",
   "pygments_lexer": "ipython3",
   "version": "3.9.2"
  }
 },
 "nbformat": 4,
 "nbformat_minor": 5
}
