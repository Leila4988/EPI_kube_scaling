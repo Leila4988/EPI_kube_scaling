{
 "cells": [
  {
   "cell_type": "code",
   "execution_count": 1,
   "id": "5432ff63",
   "metadata": {},
   "outputs": [],
   "source": [
    "import pandas as pd\n",
    "import matplotlib.pyplot as plt\n",
    "import matplotlib.ticker as mticker  "
   ]
  },
  {
   "cell_type": "code",
   "execution_count": null,
   "id": "c61fb3e9",
   "metadata": {},
   "outputs": [],
   "source": [
    "def plotRes(workload):\n",
    "    # read historical data\n",
    "    df = pd.read_csv('k8s_historical_discrete_states_five_actions.csv')\n",
    "    results = df[['timestep', 'reward', 'number_of_pods', 'latency', 'info', 'hpa_threshold','cpu_util']]\n",
    "    podsTrainVis = results[['timestep', 'number_of_pods', 'info']]\n",
    "    latencyTrainVis = results[['timestep', 'latency', 'info']]\n",
    "    thesTrainVis = results[['timestep', 'hpa_threshold', 'info']]\n",
    "    rewardTrainVis = results[['timestep', 'reward', 'info']]\n",
    "    cpuTrainVis = results[['timestep', 'cpu_util', 'info']]\n",
    "    \n",
    "    # plot historical data \n",
    "    plt.figure(figsize=(15, 18))\n",
    "    plt.subplot(3, 2, 1)\n",
    "    plt.xlabel('round')\n",
    "    plt.ylabel('number_of_pods')\n",
    "    plt.title('changes in number of pods during testing')\n",
    "    plt.axhline(y=5, color='r', linestyle='dashed')\n",
    "    plt.plot(podsTrainVis['timestep'], podsTrainVis['number_of_pods'])\n",
    "    plt.subplot(3, 2, 6)\n",
    "    plt.xlabel('round')\n",
    "    plt.ylabel('hpa_threshold')\n",
    "    plt.title('changes in hpa_threshold during training')\n",
    "    # add axis scale\n",
    "    def to_percent(temp, position):\n",
    "        return '%1.0f'%(temp) + '%'\n",
    "    plt.gca().yaxis.set_major_formatter(mticker.FuncFormatter(to_percent))\n",
    "    plt.plot(thesTrainVis['timestep'], thesTrainVis['hpa_threshold'])\n",
    "    # plot workload data \n",
    "    plt.subplot(3, 2, 2)\n",
    "    x = [i for i in range(len(workload))]\n",
    "    plt.xlabel('round')\n",
    "    plt.ylabel('request/second')\n",
    "    plt.title('changes in request rate during testing')\n",
    "    plt.plot(x, workload)\n",
    "    # plt.show()\n",
    "    # plt.figure(figsize=(15, 5))\n",
    "    plt.subplot(3, 2, 5)\n",
    "    plt.xlabel('round')\n",
    "    plt.ylabel('reward')\n",
    "    plt.title('changes in rewards during testing')\n",
    "    plt.plot(rewardTrainVis['timestep'], rewardTrainVis['reward'])\n",
    "    plt.subplot(3, 2, 4)\n",
    "    plt.xlabel('round')\n",
    "    plt.ylabel('latency/seconds')\n",
    "    plt.title('changes in latency during testing')\n",
    "    plt.gca().yaxis.set_major_formatter(mticker.FormatStrFormatter('%.1f s'))\n",
    "    plt.plot(latencyTrainVis['timestep'], latencyTrainVis['latency'])\n",
    "    plt.subplot(3, 2, 3)\n",
    "    plt.xlabel('round')\n",
    "    plt.ylabel('cpu_utilization')\n",
    "    plt.axhline(y=60, color='r', linestyle='dashed')\n",
    "    plt.title('changes in cpu_utilization during testing')\n",
    "    def to_percent(temp, position):\n",
    "        return '%1.0f'%(temp) + '%'\n",
    "    plt.gca().yaxis.set_major_formatter(mticker.FuncFormatter(to_percent))\n",
    "    plt.plot(cpuTrainVis['timestep'], cpuTrainVis['cpu_util'])"
   ]
  },
  {
   "cell_type": "code",
   "execution_count": null,
   "id": "74c5b3ac",
   "metadata": {},
   "outputs": [],
   "source": [
    "workload = []\n",
    "plotRes(workload)"
   ]
  }
 ],
 "metadata": {
  "kernelspec": {
   "display_name": "Python 3",
   "language": "python",
   "name": "python3"
  },
  "language_info": {
   "codemirror_mode": {
    "name": "ipython",
    "version": 3
   },
   "file_extension": ".py",
   "mimetype": "text/x-python",
   "name": "python",
   "nbconvert_exporter": "python",
   "pygments_lexer": "ipython3",
   "version": "3.7.12"
  }
 },
 "nbformat": 4,
 "nbformat_minor": 5
}
