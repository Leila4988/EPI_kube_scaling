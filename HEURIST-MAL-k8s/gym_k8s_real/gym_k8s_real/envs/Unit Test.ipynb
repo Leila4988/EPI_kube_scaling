{
 "cells": [
  {
   "cell_type": "code",
   "execution_count": 1,
   "id": "68fc1cb4",
   "metadata": {},
   "outputs": [],
   "source": [
    "curr_configs = [[[0 for k in range(3)] for j in range(3)] for i in range(3)] "
   ]
  },
  {
   "cell_type": "code",
   "execution_count": 2,
   "id": "18a20403",
   "metadata": {},
   "outputs": [
    {
     "data": {
      "text/plain": [
       "[[[0, 0, 0], [0, 0, 0], [0, 0, 0]],\n",
       " [[0, 0, 0], [0, 0, 0], [0, 0, 0]],\n",
       " [[0, 0, 0], [0, 0, 0], [0, 0, 0]]]"
      ]
     },
     "execution_count": 2,
     "metadata": {},
     "output_type": "execute_result"
    }
   ],
   "source": [
    "curr_configs"
   ]
  }
 ],
 "metadata": {
  "kernelspec": {
   "display_name": "Python 3 (ipykernel)",
   "language": "python",
   "name": "python3"
  },
  "language_info": {
   "codemirror_mode": {
    "name": "ipython",
    "version": 3
   },
   "file_extension": ".py",
   "mimetype": "text/x-python",
   "name": "python",
   "nbconvert_exporter": "python",
   "pygments_lexer": "ipython3",
   "version": "3.9.2"
  }
 },
 "nbformat": 4,
 "nbformat_minor": 5
}
