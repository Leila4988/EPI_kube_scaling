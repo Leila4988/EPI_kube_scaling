{
 "cells": [
  {
   "cell_type": "markdown",
   "id": "3f9cbd7f",
   "metadata": {},
   "source": [
    "## Build environment"
   ]
  },
  {
   "cell_type": "code",
   "execution_count": 1,
   "id": "3b0a3328",
   "metadata": {},
   "outputs": [
    {
     "name": "stdout",
     "output_type": "stream",
     "text": [
      "Obtaining file:///home/li/EPI_kube_scaling/HEURIST-MAL-k8s/gym_k8s_real\n",
      "Requirement already satisfied: gym in /home/li/.local/lib/python3.9/site-packages (from gym-k8s-real==0.0.1) (0.21.0)\n",
      "Requirement already satisfied: pint in /home/li/.local/lib/python3.9/site-packages (from gym-k8s-real==0.0.1) (0.19.2)\n",
      "Requirement already satisfied: pyyaml in /home/li/.local/lib/python3.9/site-packages (from gym-k8s-real==0.0.1) (6.0)\n",
      "Requirement already satisfied: requests in /usr/lib/python3/dist-packages (from gym-k8s-real==0.0.1) (2.25.1)\n",
      "Requirement already satisfied: numpy>=1.18.0 in /home/li/.local/lib/python3.9/site-packages (from gym->gym-k8s-real==0.0.1) (1.23.4)\n",
      "Requirement already satisfied: cloudpickle>=1.2.0 in /home/li/.local/lib/python3.9/site-packages (from gym->gym-k8s-real==0.0.1) (2.2.0)\n",
      "Installing collected packages: gym-k8s-real\n",
      "  Attempting uninstall: gym-k8s-real\n",
      "    Found existing installation: gym-k8s-real 0.0.1\n",
      "    Uninstalling gym-k8s-real-0.0.1:\n",
      "      Successfully uninstalled gym-k8s-real-0.0.1\n",
      "  Running setup.py develop for gym-k8s-real\n",
      "Successfully installed gym-k8s-real\n"
     ]
    }
   ],
   "source": [
    "!pip install -e gym_k8s_real"
   ]
  },
  {
   "cell_type": "code",
   "execution_count": 2,
   "id": "25a47807",
   "metadata": {},
   "outputs": [],
   "source": [
    "import gym\n",
    "import random\n",
    "import subprocess\n",
    "import time\n",
    "import numpy as np\n",
    "from threading import Lock, Thread\n",
    "import datetime\n",
    "import gym_k8s_real\n",
    "import os"
   ]
  },
  {
   "cell_type": "code",
   "execution_count": 3,
   "id": "62e27c22",
   "metadata": {},
   "outputs": [],
   "source": [
    "# Timestep duration in minutes\n",
    "# We wait these many minutes for our actions to be enforced\n",
    "timestep_duration = 1.5\n",
    "current_app_names = [\"firewall\", \"encrypt\", \"decrypt\"]\n",
    "current_cluster_names = [\"kubernetes-master-dev\", \"kubernetes-work-dev\"]\n",
    "memory_req = '128Mi'\n",
    "cpu_req = '80m'\n",
    "sla_latency = 2.6\n",
    "sla_host = 'http://145.100.135.89:6088/'\n",
    "# latency metric\n",
    "sla_metric_name = 'latency'\n",
    "gym_env = 'gym_k8s_real:k8s-env-dqn-v0'\n",
    "#init Q_table\n",
    "total_epochs = 100\n",
    "num_of_services = 1\n",
    "steps_per_epoch = 15\n",
    "app_dict = {\"firewall\": 500, \"encrypt\": 500, \"decrypt\": 500}\n",
    "config_path = \"~/EPI_kube_scaling/EPIF-Configurations/\""
   ]
  },
  {
   "cell_type": "code",
   "execution_count": 4,
   "id": "f9f3c387",
   "metadata": {},
   "outputs": [],
   "source": [
    "env = gym.make(\n",
    "        gym_env,\n",
    "        timestep_duration=timestep_duration,\n",
    "        app_names=current_app_names,\n",
    "        app_configs = ['s', 'm', 'l'], \n",
    "        cluster_names = current_cluster_names, \n",
    "        sla_latency = sla_latency,\n",
    "        sla_host = sla_host, \n",
    "        sla_latency_metric_name = sla_metric_name, \n",
    "        max_pods = 30, \n",
    "        min_pods = 1,\n",
    "        app_dict = app_dict,\n",
    "        config_path = config_path,\n",
    "        changes = [0, 1, 2]\n",
    "    )"
   ]
  },
  {
   "cell_type": "markdown",
   "id": "381b172d",
   "metadata": {},
   "source": [
    "## Collect metrics"
   ]
  },
  {
   "cell_type": "code",
   "execution_count": 5,
   "id": "fbbaa085",
   "metadata": {},
   "outputs": [
    {
     "data": {
      "text/plain": [
       "0"
      ]
     },
     "execution_count": 5,
     "metadata": {},
     "output_type": "execute_result"
    }
   ],
   "source": [
    "env.reset()"
   ]
  },
  {
   "cell_type": "code",
   "execution_count": null,
   "id": "c2c9eddf",
   "metadata": {},
   "outputs": [],
   "source": [
    "def encode_action(cluster_idx, change_idx, config_idx, proxy_idx, app_idx):\n",
    "        \"\"\"\n",
    "        Encode the discrete action values in one single number.\n",
    "        Clusters in {0, 1, 2}\n",
    "        Change_idx, config_idx in {0, 1, 2}\n",
    "        Proxy_idx in {0, 1, 2}\n",
    "        App_idx in {0, 1}\n",
    "        \"\"\"\n",
    "        code = cluster_idx\n",
    "        code *= 3\n",
    "        code += change_idx\n",
    "        code *= 3\n",
    "        code += config_idx\n",
    "        code *= 3\n",
    "        code += proxy_idx\n",
    "        code *= 2\n",
    "        code += app_idx\n",
    "        return code\n",
    "    \n",
    "def decode_action( i):\n",
    "        out = []\n",
    "        out.append(i % 2)\n",
    "        i //= 2\n",
    "        out.append(i % 3)\n",
    "        i //= 3\n",
    "        out.append(i % 3)\n",
    "        i //= 3\n",
    "        out.append(i % 3)\n",
    "        i //= 3\n",
    "        out.append(i)\n",
    "        return list(reversed(out))\n"
   ]
  },
  {
   "cell_type": "code",
   "execution_count": null,
   "id": "15886596",
   "metadata": {},
   "outputs": [],
   "source": [
    "print(decode_action(0))\n",
    "print(encode_action(0, 1, 0, 1, 0))"
   ]
  },
  {
   "cell_type": "code",
   "execution_count": null,
   "id": "ab99f827",
   "metadata": {},
   "outputs": [],
   "source": [
    "print(env.observation_space.n) \n",
    "print(env.action_space.n)\n",
    "print(env.d_state())"
   ]
  },
  {
   "cell_type": "code",
   "execution_count": null,
   "id": "7f4aab9b",
   "metadata": {},
   "outputs": [],
   "source": [
    "#deploy the proxy_id proxy pod\n",
    "ip_proxy = [['miss'], ['miss'], ['miss']]\n",
    "proxy_cluster = {0: \"cluster1-cntx\", 1: \"cluster2-cntx\", 2: \"cluster3-cntx\"}\n",
    "cluster_names = [\"cluster1-cntx\", \"cluster2-cntx\", \"cluster3-cntx\"]\n",
    "app_names = ['firewall', 'encrypt']\n",
    "def deploy_proxy(proxy_idx):\n",
    "    print(ip_proxy)\n",
    "    newChain = []\n",
    "    for idx in range(len(ip_proxy[proxy_idx])):\n",
    "        #this chain is incomplete\n",
    "        newChain.append('\"-c\",'+'\"socks6://'+ip_proxy[proxy_idx][idx]+'\",')\n",
    "\n",
    "    newChain = ''.join(newChain)\n",
    "    newChain = newChain[:-1]\n",
    "\n",
    "    proxy_name = \"proxy\" + str(proxy_idx)\n",
    "    print(\"kubectl patch deployment \" + proxy_name + \" --namespace default --type='json' -p='[{'op': 'replace', 'path': '/spec/template/spec/containers/0/args', 'value': [\" \n",
    "    + newChain + \"]}]' --context=\" + proxy_cluster[proxy_idx])\n",
    "    os.system(\"kubectl patch deployment \" + proxy_name + \" --namespace default --type='json' -p='[{'op': 'replace', 'path': '/spec/template/spec/containers/0/args', 'value': [\" \n",
    "    + newChain + \"]}]' --context=\" + proxy_cluster[proxy_idx])\n",
    "\n",
    "def assign_proxy(ip, app_idx, proxy_idx):\n",
    "    print(ip)\n",
    "        #assign proxy0 with ip of firewall\n",
    "    if app_idx == 0 and proxy_idx == 0:\n",
    "        ip_proxy[proxy_idx][0] = ip\n",
    "        deploy_proxy(proxy_idx)\n",
    "    #assign proxy1 with ip of encrypt\n",
    "    elif app_idx == 1 and proxy_idx == 1:\n",
    "        ip_proxy[proxy_idx][0] = ip\n",
    "        deploy_proxy(proxy_idx)\n",
    "    #assign proxy2 with ip of encrypt\n",
    "    elif app_idx == 1 and proxy_idx == 2:\n",
    "        ip_proxy[proxy_idx][0] = ip\n",
    "        deploy_proxy(proxy_idx)\n",
    "    #unreasonable conditions\n",
    "    else:\n",
    "        return -1\n",
    "\n",
    "    #successful\n",
    "    return 1\n",
    "    \n",
    "def create_action(config_idx, app_idx, cluster_idx, proxy_idx):\n",
    "    cluster = cluster_names[cluster_idx]\n",
    "    sizes = ['s', 'm', 'l']\n",
    "    #the name of deployment\n",
    "    deploy_name = app_names[app_idx] + sizes[config_idx]\n",
    "    #TO-DO: analyze returned content to get IP\n",
    "    serviceIP = \"\"\n",
    "    output = os.popen('kubectl get service -o wide --context=' + cluster).read()\n",
    "    print('kubectl get service -o wide --context=' + cluster)\n",
    "    lines = output.split(\"\\n\")\n",
    "    port=''\n",
    "    which_app = len(deploy_name)\n",
    "    print(deploy_name)\n",
    "    for line in lines[:-1]:\n",
    "        items = line.split()\n",
    "        if items[0][:which_app] == deploy_name:\n",
    "            serviceIP=items[2]+\":\"+items[4][:4]\n",
    "    print(serviceIP)\n",
    "    res = assign_proxy(serviceIP, app_idx, proxy_idx)\n",
    "    return res"
   ]
  },
  {
   "cell_type": "code",
   "execution_count": null,
   "id": "dbf929ed",
   "metadata": {},
   "outputs": [],
   "source": [
    "create_action(0, 0, 1, 0)"
   ]
  }
 ],
 "metadata": {
  "kernelspec": {
   "display_name": "Python 3 (ipykernel)",
   "language": "python",
   "name": "python3"
  },
  "language_info": {
   "codemirror_mode": {
    "name": "ipython",
    "version": 3
   },
   "file_extension": ".py",
   "mimetype": "text/x-python",
   "name": "python",
   "nbconvert_exporter": "python",
   "pygments_lexer": "ipython3",
   "version": "3.9.2"
  }
 },
 "nbformat": 4,
 "nbformat_minor": 5
}
