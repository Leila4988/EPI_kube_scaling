{
 "cells": [
  {
   "cell_type": "code",
   "execution_count": 3,
   "id": "8708aa1f",
   "metadata": {},
   "outputs": [
    {
     "name": "stderr",
     "output_type": "stream",
     "text": [
      "2022-05-13 15:27:09.406939: W tensorflow/stream_executor/platform/default/dso_loader.cc:64] Could not load dynamic library 'libcudart.so.11.0'; dlerror: libcudart.so.11.0: cannot open shared object file: No such file or directory\n",
      "2022-05-13 15:27:09.406999: I tensorflow/stream_executor/cuda/cudart_stub.cc:29] Ignore above cudart dlerror if you do not have a GPU set up on your machine.\n",
      "\n",
      "KeyboardInterrupt\n",
      "\n"
     ]
    }
   ],
   "source": [
    "import functools\n",
    "import gym\n",
    "import os\n",
    "import subprocess\n",
    "import time\n",
    "import uuid\n",
    "import tensorflow as tf\n",
    "\n",
    "from tf_agents.agents.dqn import dqn_agent\n",
    "from tf_agents.drivers import dynamic_step_driver\n",
    "from tf_agents.environments import suite_gym\n",
    "from tf_agents.environments import parallel_py_environment\n",
    "from tf_agents.environments import tf_py_environment\n",
    "from tf_agents.networks import q_network\n",
    "from tf_agents.policies import random_tf_policy\n",
    "from tf_agents.replay_buffers import tf_uniform_replay_buffer\n",
    "from tf_agents.system import multiprocessing\n",
    "from tf_agents.utils import common\n",
    "\n",
    "from gym_k8s.envs import K8sEnvContinuousStateDiscreteActionV0"
   ]
  },
  {
   "cell_type": "code",
   "execution_count": 2,
   "id": "48952092",
   "metadata": {},
   "outputs": [
    {
     "data": {
      "text/plain": [
       "<module 'tensorflow' from '/home/li/.local/lib/python3.9/site-packages/tensorflow/__init__.py'>"
      ]
     },
     "execution_count": 2,
     "metadata": {},
     "output_type": "execute_result"
    }
   ],
   "source": [
    "tf"
   ]
  },
  {
   "cell_type": "code",
   "execution_count": 1,
   "id": "08ab16f1",
   "metadata": {},
   "outputs": [],
   "source": [
    "import subprocess"
   ]
  },
  {
   "cell_type": "code",
   "execution_count": 2,
   "id": "306e3d12",
   "metadata": {},
   "outputs": [],
   "source": [
    "def stress_function(endpoint):\n",
    "    rate_per_second = 0.5\n",
    "    rate_per_minute = int(rate_per_second * 60)\n",
    "    timestep_duration = 0.1\n",
    "\n",
    "    locust_process = subprocess.Popen('agents/locust-stress.sh {} {} {}'\n",
    "                   .format(endpoint, rate_per_minute, timestep_duration * 2), shell=True)\n",
    "    return locust_process"
   ]
  },
  {
   "cell_type": "code",
   "execution_count": 3,
   "id": "e3c2f21c",
   "metadata": {},
   "outputs": [
    {
     "name": "stderr",
     "output_type": "stream",
     "text": [
      "Spawning environment shell (/bin/bash). Use 'exit' to leave.\n",
      "Traceback (most recent call last):\n",
      "  File \"/usr/bin/pipenv\", line 33, in <module>\n",
      "    sys.exit(load_entry_point('pipenv==11.9.0', 'console_scripts', 'pipenv')())\n",
      "  File \"/usr/lib/python3/dist-packages/pipenv/vendor/click/core.py\", line 722, in __call__\n",
      "    return self.main(*args, **kwargs)\n",
      "  File \"/usr/lib/python3/dist-packages/pipenv/vendor/click/core.py\", line 697, in main\n",
      "    rv = self.invoke(ctx)\n",
      "  File \"/usr/lib/python3/dist-packages/pipenv/vendor/click/core.py\", line 1066, in invoke\n",
      "    return _process_result(sub_ctx.command.invoke(sub_ctx))\n",
      "  File \"/usr/lib/python3/dist-packages/pipenv/vendor/click/core.py\", line 895, in invoke\n",
      "    return ctx.invoke(self.callback, **ctx.params)\n",
      "  File \"/usr/lib/python3/dist-packages/pipenv/vendor/click/core.py\", line 535, in invoke\n",
      "    return callback(*args, **kwargs)\n",
      "  File \"/usr/lib/python3/dist-packages/pipenv/cli.py\", line 571, in shell\n",
      "    core.do_shell(\n",
      "  File \"/usr/lib/python3/dist-packages/pipenv/core.py\", line 2174, in do_shell\n",
      "    c.interact(escape_character=None)\n",
      "  File \"/usr/lib/python3/dist-packages/pipenv/vendor/pexpect/pty_spawn.py\", line 744, in interact\n",
      "    mode = tty.tcgetattr(self.STDIN_FILENO)\n",
      "termios.error: (25, 'Inappropriate ioctl for device')\n"
     ]
    }
   ],
   "source": [
    "locust_process = stress_function('145.100.135.52')"
   ]
  },
  {
   "cell_type": "code",
   "execution_count": 4,
   "id": "38381431",
   "metadata": {},
   "outputs": [],
   "source": [
    "locust_process.kill()"
   ]
  },
  {
   "cell_type": "code",
   "execution_count": null,
   "id": "7175e74e",
   "metadata": {},
   "outputs": [],
   "source": []
  }
 ],
 "metadata": {
  "kernelspec": {
   "display_name": "Python 3 (ipykernel)",
   "language": "python",
   "name": "python3"
  },
  "language_info": {
   "codemirror_mode": {
    "name": "ipython",
    "version": 3
   },
   "file_extension": ".py",
   "mimetype": "text/x-python",
   "name": "python",
   "nbconvert_exporter": "python",
   "pygments_lexer": "ipython3",
   "version": "3.9.2"
  }
 },
 "nbformat": 4,
 "nbformat_minor": 5
}
