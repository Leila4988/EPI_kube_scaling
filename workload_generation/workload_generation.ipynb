{
 "cells": [
  {
   "cell_type": "code",
   "execution_count": 1,
   "id": "1e3f9230",
   "metadata": {
    "collapsed": true
   },
   "outputs": [
    {
     "name": "stdout",
     "output_type": "stream",
     "text": [
      "Defaulting to user installation because normal site-packages is not writeable\n",
      "Requirement already satisfied: easydl in /home/li/.local/lib/python3.9/site-packages (2.2.0)\n",
      "Requirement already satisfied: six in /usr/lib/python3/dist-packages (from easydl) (1.16.0)\n",
      "Requirement already satisfied: pathlib2 in /home/li/.local/lib/python3.9/site-packages (from easydl) (2.3.7.post1)\n",
      "Requirement already satisfied: torchvision in /home/li/.local/lib/python3.9/site-packages (from easydl) (0.12.0)\n",
      "Requirement already satisfied: matplotlib in /home/li/.local/lib/python3.9/site-packages (from easydl) (3.5.2)\n",
      "Requirement already satisfied: torch in /home/li/.local/lib/python3.9/site-packages (from easydl) (1.11.0)\n",
      "Requirement already satisfied: fonttools>=4.22.0 in /home/li/.local/lib/python3.9/site-packages (from matplotlib->easydl) (4.33.3)\n",
      "Requirement already satisfied: pyparsing>=2.2.1 in /home/li/.local/lib/python3.9/site-packages (from matplotlib->easydl) (3.0.9)\n",
      "Requirement already satisfied: numpy>=1.17 in /home/li/.local/lib/python3.9/site-packages (from matplotlib->easydl) (1.22.4)\n",
      "Requirement already satisfied: kiwisolver>=1.0.1 in /home/li/.local/lib/python3.9/site-packages (from matplotlib->easydl) (1.4.2)\n",
      "Requirement already satisfied: python-dateutil>=2.7 in /home/li/.local/lib/python3.9/site-packages (from matplotlib->easydl) (2.8.2)\n",
      "Requirement already satisfied: pillow>=6.2.0 in /home/li/.local/lib/python3.9/site-packages (from matplotlib->easydl) (9.1.1)\n",
      "Requirement already satisfied: packaging>=20.0 in /home/li/.local/lib/python3.9/site-packages (from matplotlib->easydl) (21.3)\n",
      "Requirement already satisfied: cycler>=0.10 in /home/li/.local/lib/python3.9/site-packages (from matplotlib->easydl) (0.11.0)\n",
      "Requirement already satisfied: typing-extensions in /home/li/.local/lib/python3.9/site-packages (from torch->easydl) (4.2.0)\n",
      "Requirement already satisfied: requests in /usr/lib/python3/dist-packages (from torchvision->easydl) (2.25.1)\n",
      "Note: you may need to restart the kernel to use updated packages.\n"
     ]
    }
   ],
   "source": [
    "pip install easydl"
   ]
  },
  {
   "cell_type": "code",
   "execution_count": 1,
   "id": "e171026d",
   "metadata": {},
   "outputs": [
    {
     "name": "stdout",
     "output_type": "stream",
     "text": [
      "[easydl] tensorflow not available!\n"
     ]
    }
   ],
   "source": [
    "import subprocess\n",
    "import time\n",
    "import numpy as np\n",
    "from easydl import clear_output\n",
    "import matplotlib.pyplot as plt\n",
    "import math\n",
    "import random\n",
    "import datetime"
   ]
  },
  {
   "cell_type": "markdown",
   "id": "fc3877ce",
   "metadata": {},
   "source": [
    "## Define function to clean each cell's output"
   ]
  },
  {
   "cell_type": "code",
   "execution_count": 2,
   "id": "47923bc4",
   "metadata": {},
   "outputs": [],
   "source": [
    "def clear_output():\n",
    "    \"\"\"\n",
    "    clear output for both jupyter notebook and the console\n",
    "    \"\"\"\n",
    "    import os\n",
    "    os.system('cls' if os.name == 'nt' else 'clear')\n",
    "    if is_in_notebook():\n",
    "        from IPython.display import clear_output as clear\n",
    "        clear()"
   ]
  },
  {
   "cell_type": "code",
   "execution_count": 3,
   "id": "0110601c",
   "metadata": {},
   "outputs": [
    {
     "name": "stdout",
     "output_type": "stream",
     "text": [
      "after\n"
     ]
    }
   ],
   "source": [
    "from easydl import clear_output\n",
    "\n",
    "print('before')\n",
    "clear_output()  # test if the output of each cell can be cleaned\n",
    "print('after')"
   ]
  },
  {
   "cell_type": "markdown",
   "id": "fec4576c",
   "metadata": {},
   "source": [
    "## Generate historical workload and record the loads"
   ]
  },
  {
   "cell_type": "code",
   "execution_count": 20,
   "id": "120a35de",
   "metadata": {},
   "outputs": [
    {
     "name": "stdout",
     "output_type": "stream",
     "text": [
      "File not present. Created successfully!\n"
     ]
    }
   ],
   "source": [
    "try:\n",
    "    open('workload_firewall.csv', 'r').close()\n",
    "    print('File already present.')\n",
    "except IOError:\n",
    "    with open('workload_firewall.csv', 'w') as f:\n",
    "        f.write('current_app_name,timestep,round,current_user,rate,duration,info\\n')\n",
    "    print('File not present. Created successfully!')"
   ]
  },
  {
   "cell_type": "code",
   "execution_count": 5,
   "id": "b150491d",
   "metadata": {},
   "outputs": [
    {
     "name": "stdout",
     "output_type": "stream",
     "text": [
      "[1, 3, 4, 6, 7, 8, 9, 10, 10, 10, 8, 9, 8, 7, 7, 5, 3, 2, 3, 3, 4, 4, 5, 5, 6, 6, 7, 7, 8, 8, 7, 7, 8, 7, 8, 9, 9, 7, 6, 6, 6, 5, 5, 4, 4, 6, 10, 10, 9, 7, 5, 3, 2, 2, 0]\n"
     ]
    },
    {
     "data": {
      "image/png": "[encoded data removed]",
      "text/plain": [
       "<Figure size 432x288 with 1 Axes>"
      ]
     },
     "metadata": {
      "needs_background": "light"
     },
     "output_type": "display_data"
    }
   ],
   "source": [
    "#generate stable workloads\n",
    "workload1 = list(np.sin(np.arange(0.1,np.pi/2-0.3,0.15)))\n",
    "workload2 = list(np.sin(np.arange(np.pi/2-0.3,np.pi-0.2,0.2)))\n",
    "workload3 = list(np.sin(np.arange(0.2,np.pi/4-0.1,0.05)))\n",
    "workload4 = list(np.sin(np.arange(np.pi/4-0.1,np.pi/4+0.1,0.25)))\n",
    "workload5 = list(np.sin(np.arange(np.pi/4+0.1,np.pi/4-0.1,-0.1)))\n",
    "workload6 = list(np.sin(np.arange(np.pi/4-0.1,np.pi/4+0.2,0.05)))\n",
    "workload7 = list(np.sin(np.arange(np.pi/4+0.2,np.pi/4-0.1,-0.3)))\n",
    "workload8 = list(np.sin(np.arange(np.pi/4-0.1,0.1,-0.05)))\n",
    "workloads = workload1 + workload2 + workload3 + workload4 + workload5 + workload6 + workload7 + workload8\n",
    "workloads = [math.ceil(workload * 10) for workload in workloads]\n",
    "# randomly insert some 25 bursts and 1/2 small loads\n",
    "count = int(len(workloads) * 0.15)\n",
    "size = len(workloads)\n",
    "while count:\n",
    "    idx = random.randint(2, size-1)\n",
    "    workloads[idx] = random.sample([25, 2, 1],1)[0]\n",
    "    count -= 1\n",
    "plt.plot([i for i in range(len(workloads))], workloads)\n",
    "print(workloads)"
   ]
  },
  {
   "cell_type": "code",
   "execution_count": 30,
   "id": "b20fd452",
   "metadata": {},
   "outputs": [],
   "source": [
    "app_name = 'firewall'\n",
    "def stress_function(runtime, time_duration, max_load, num_of_rounds, workloads):\n",
    "    endpoint = '145.100.135.52'\n",
    "    step = 0\n",
    "    for load_round in range(0, num_of_rounds):\n",
    "        print('Test {} round'.format(load_round) + '\\n')\n",
    "        for load in workloads:\n",
    "            step += 1\n",
    "            rate = int(load / 3) if int(load / 3) > 0 else 1\n",
    "            # Save historical tuple\\\n",
    "            now = datetime.datetime.now() + datetime.timedelta(hours=2)\n",
    "            dt_string = now.strftime('%d/%m/%Y %H:%M:%S')\n",
    "            with open('workload_firewall.csv', 'a') as f:\n",
    "                f.write('{},{},{},{},{},{},{}'.format(app_name, step, load_round, load, rate, runtime, dt_string) + '\\n')\n",
    "            locust_process = subprocess.Popen('./locust-stress.sh {} {} {} {}'\n",
    "                                              .format(endpoint, load, rate, runtime), shell=True, close_fds=True)\n",
    "            time.sleep(time_duration)\n",
    "            locust_process.terminate()\n",
    "            locust_process.kill()\n",
    "            clear_output()\n",
    "    \n",
    "    return 0"
   ]
  },
  {
   "cell_type": "code",
   "execution_count": 31,
   "id": "24ef896a",
   "metadata": {},
   "outputs": [
    {
     "data": {
      "text/plain": [
       "0"
      ]
     },
     "execution_count": 31,
     "metadata": {},
     "output_type": "execute_result"
    },
    {
     "name": "stderr",
     "output_type": "stream",
     "text": [
      "[2022-06-22 18:32:54,373] lz-04/INFO/locust.main: --run-time limit reached. Stopping Locust\n",
      "[2022-06-22 18:32:54,375] lz-04/INFO/locust.main: Shutting down (exit code 0)\n",
      "Type     Name                                                                          # reqs      # fails |    Avg     Min     Max    Med |   req/s  failures/s\n",
      "--------|----------------------------------------------------------------------------|-------|-------------|-------|-------|-------|-------|--------|-----------\n",
      "--------|----------------------------------------------------------------------------|-------|-------------|-------|-------|-------|-------|--------|-----------\n",
      "         Aggregated                                                                         0     0(0.00%) |      0       0       0      0 |    0.00        0.00\n",
      "\n",
      "Response time percentiles (approximated)\n",
      "Type     Name                                                                                  50%    66%    75%    80%    90%    95%    98%    99%  99.9% 99.99%   100% # reqs\n",
      "--------|--------------------------------------------------------------------------------|--------|------|------|------|------|------|------|------|------|------|------|------\n",
      "--------|--------------------------------------------------------------------------------|--------|------|------|------|------|------|------|------|------|------|------|------\n",
      "\n"
     ]
    },
    {
     "name": "stdout",
     "output_type": "stream",
     "text": [
      "here\n",
      "catched error\n"
     ]
    }
   ],
   "source": [
    "stress_function('1m', 60-1, 10, 3, workloads)"
   ]
  }
 ],
 "metadata": {
  "kernelspec": {
   "display_name": "Python 3",
   "language": "python",
   "name": "python3"
  },
  "language_info": {
   "codemirror_mode": {
    "name": "ipython",
    "version": 3
   },
   "file_extension": ".py",
   "mimetype": "text/x-python",
   "name": "python",
   "nbconvert_exporter": "python",
   "pygments_lexer": "ipython3",
   "version": "3.7.12"
  }
 },
 "nbformat": 4,
 "nbformat_minor": 5
}
